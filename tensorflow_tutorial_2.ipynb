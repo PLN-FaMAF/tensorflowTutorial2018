{
 "cells": [
  {
   "cell_type": "markdown",
   "metadata": {},
   "source": [
    "# Train and visualize a model in Tensorflow - Part 2: Scikit Learn\n",
    "\n",
    "Along this tutorial we will explain the **multilayer perceptron** algorithm, which is the simplest possible form of an *artificial feed-forward neural network*. For this we will use the 20 newsgroup dataset obtained in the previous part of the tutorial.\n",
    "\n",
    "We will see the same algorithm in three different ways: using *scikit-learn*'s `MLPClassifier`, using *TensorFlow*'s API to write the neural network from scratch, and finally using *TensorFlow*'s `DNNClassifier`.\n",
    "\n",
    "The idea is to compare how the different ways serve different purposes. This notebook deals with the simplest form possible using Scikit Learn."
   ]
  },
  {
   "cell_type": "code",
   "execution_count": 1,
   "metadata": {},
   "outputs": [],
   "source": [
    "import numpy as np\n",
    "import warnings\n",
    "warnings.filterwarnings('ignore')\n",
    "\n",
    "from sklearn.metrics import accuracy_score, classification_report\n",
    "from sklearn.linear_model import LogisticRegression\n",
    "from sklearn.neural_network import MLPClassifier"
   ]
  },
  {
   "cell_type": "markdown",
   "metadata": {},
   "source": [
    "## Training\n",
    "\n",
    "Scikit Learn offers a simple API to do machine learning, specially in comparison to TensorFlow. The main problem with scikit learn is that most of the models are shallow ones (e.g. Logistic Regression, SVM, etc). The `MLPClassifier` exists and offers the possibility for a Neural Network classifier, however it is considerably slow to train a classifier and doesn't provide GPU optimization. The [documentation](http://scikit-learn.org/stable/modules/neural_networks_supervised.html) itself says the implementation of `MLPClassifier` is not intended for large-scale applications.\n",
    "\n",
    "To keep things simple we will create a simple multilayer perceptron with only one hidden layer with size 5000 (half the size of the input) and see how it goes."
   ]
  },
  {
   "cell_type": "code",
   "execution_count": 2,
   "metadata": {},
   "outputs": [
    {
     "data": {
      "text/plain": [
       "MLPClassifier(activation='relu', alpha=0.0001, batch_size=100, beta_1=0.9,\n",
       "       beta_2=0.999, early_stopping=False, epsilon=1e-08,\n",
       "       hidden_layer_sizes=(5000,), learning_rate='constant',\n",
       "       learning_rate_init=0.001, max_iter=5, momentum=0.9,\n",
       "       nesterovs_momentum=True, power_t=0.5, random_state=None,\n",
       "       shuffle=True, solver='adam', tol=0.0001, validation_fraction=0.1,\n",
       "       verbose=False, warm_start=False)"
      ]
     },
     "execution_count": 2,
     "metadata": {},
     "output_type": "execute_result"
    }
   ],
   "source": [
    "# Load the dataset\n",
    "newsgroups = np.load('./resources/newsgroup.npz')\n",
    "\n",
    "# Define the model\n",
    "model = MLPClassifier(\n",
    "    activation='relu',  # Rectifier Linear Unit activation\n",
    "    hidden_layer_sizes=(5000,),  # 1 hidden layer of size 5000\n",
    "    max_iter=5,  # Each epochs takes a lot of time so we keep it to 5\n",
    "    batch_size=100,  # The batch size is set to 100 elements\n",
    "    solver='adam')  # We use the adam solver\n",
    "\n",
    "model.fit(newsgroups['train_data'],\n",
    "          newsgroups['train_target'])"
   ]
  },
  {
   "cell_type": "markdown",
   "metadata": {},
   "source": [
    "## Evaluation\n",
    "\n",
    "Once the model is trained we check both the accuracy of the model and print the classification report of it (which shows the precision, recall, f1-score and support for each of the categories)."
   ]
  },
  {
   "cell_type": "code",
   "execution_count": 3,
   "metadata": {},
   "outputs": [
    {
     "name": "stdout",
     "output_type": "stream",
     "text": [
      "Accuracy: 0.91\n",
      "\n",
      "Classification Report\n",
      "=====================\n",
      "             precision    recall  f1-score   support\n",
      "\n",
      "          0       0.93      0.96      0.94       160\n",
      "          1       0.86      0.84      0.85       195\n",
      "          2       0.79      0.89      0.84       197\n",
      "          3       0.77      0.78      0.77       196\n",
      "          4       0.91      0.83      0.87       192\n",
      "          5       0.91      0.90      0.90       196\n",
      "          6       0.86      0.85      0.85       194\n",
      "          7       0.91      0.92      0.92       198\n",
      "          8       0.96      0.96      0.96       199\n",
      "          9       0.98      0.97      0.98       199\n",
      "         10       0.98      0.96      0.97       200\n",
      "         11       0.96      0.94      0.95       198\n",
      "         12       0.86      0.89      0.87       196\n",
      "         13       0.89      0.97      0.93       198\n",
      "         14       1.00      0.92      0.96       197\n",
      "         15       0.95      0.95      0.95       200\n",
      "         16       0.96      0.90      0.93       182\n",
      "         17       0.99      0.98      0.99       188\n",
      "         18       0.90      0.94      0.92       155\n",
      "         19       0.86      0.85      0.86       126\n",
      "\n",
      "avg / total       0.91      0.91      0.91      3766\n",
      "\n"
     ]
    }
   ],
   "source": [
    "accuracy = accuracy_score(\n",
    "    newsgroups['test_target'],\n",
    "    model.predict(newsgroups['test_data']))\n",
    "\n",
    "print(\"Accuracy: %.2f\\n\" % accuracy)\n",
    "\n",
    "print(\"Classification Report\\n=====================\")\n",
    "print(classification_report(\n",
    "    newsgroups['test_target'],\n",
    "    model.predict(newsgroups['test_data'])))"
   ]
  }
 ],
 "metadata": {
  "kernelspec": {
   "display_name": "Python [conda env:tensorflow-tutorial]",
   "language": "python",
   "name": "conda-env-tensorflow-tutorial-py"
  },
  "language_info": {
   "codemirror_mode": {
    "name": "ipython",
    "version": 3
   },
   "file_extension": ".py",
   "mimetype": "text/x-python",
   "name": "python",
   "nbconvert_exporter": "python",
   "pygments_lexer": "ipython3",
   "version": "3.5.4"
  }
 },
 "nbformat": 4,
 "nbformat_minor": 2
}
